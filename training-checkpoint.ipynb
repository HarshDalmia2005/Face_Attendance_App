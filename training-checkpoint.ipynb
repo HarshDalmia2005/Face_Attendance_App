{
 "cells": [
  {
   "cell_type": "code",
   "execution_count": null,
   "id": "c8fef3af",
   "metadata": {},
   "outputs": [],
   "source": [
    "import cv2\n",
    "import os\n",
    "import numpy as np\n",
    "\n",
    "# Path to the dataset\n",
    "dataset_path = 'dataset/'\n",
    "\n",
    "# Function to read images and labels\n",
    "def load_images_and_labels(dataset_path):\n",
    "    images = []\n",
    "    labels = []\n",
    "    label_map = {}\n",
    "    label_counter = 0\n",
    "\n",
    "    for person_name in os.listdir(dataset_path):\n",
    "        person_path = os.path.join(dataset_path, person_name)\n",
    "        if not os.path.isdir(person_path):\n",
    "            continue\n",
    "        for image_name in os.listdir(person_path):\n",
    "            image_path = os.path.join(person_path, image_name)\n",
    "            image = cv2.imread(image_path, cv2.IMREAD_GRAYSCALE)\n",
    "            if image is None:\n",
    "                continue\n",
    "            images.append(image)\n",
    "            if person_name not in label_map:\n",
    "                label_map[person_name] = label_counter\n",
    "                label_counter += 1\n",
    "            labels.append(label_map[person_name])\n",
    "\n",
    "    return images, labels, label_map\n",
    "\n",
    "# Load the dataset\n",
    "images, labels, label_map = load_images_and_labels(dataset_path)\n",
    "\n",
    "# Create the LBPH face recognizer\n",
    "recognizer = cv2.face.LBPHFaceRecognizer_create()\n",
    "\n",
    "# Train the recognizer\n",
    "recognizer.train(images, np.array(labels))\n",
    "\n",
    "# Save the trained model\n",
    "recognizer.save('face_recognizer.yml')\n",
    "\n",
    "# Save the label map\n",
    "with open('label_map.txt', 'w') as f:\n",
    "    for name, label in label_map.items():\n",
    "        f.write(f'{label},{name}\\n')\n",
    "\n",
    "print(\"Training completed and model saved.\")\n"
   ]
  }
 ],
 "metadata": {
  "kernelspec": {
   "display_name": "Python 3 (ipykernel)",
   "language": "python",
   "name": "python3"
  },
  "language_info": {
   "codemirror_mode": {
    "name": "ipython",
    "version": 3
   },
   "file_extension": ".py",
   "mimetype": "text/x-python",
   "name": "python",
   "nbconvert_exporter": "python",
   "pygments_lexer": "ipython3",
   "version": "3.11.7"
  }
 },
 "nbformat": 4,
 "nbformat_minor": 5
}
